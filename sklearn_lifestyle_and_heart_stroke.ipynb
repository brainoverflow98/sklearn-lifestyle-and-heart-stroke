{
  "nbformat": 4,
  "nbformat_minor": 0,
  "metadata": {
    "kernelspec": {
      "display_name": "Python 3",
      "language": "python",
      "name": "python3"
    },
    "language_info": {
      "codemirror_mode": {
        "name": "ipython",
        "version": 3
      },
      "file_extension": ".py",
      "mimetype": "text/x-python",
      "name": "python",
      "nbconvert_exporter": "python",
      "pygments_lexer": "ipython3",
      "version": "3.7.6"
    },
    "colab": {
      "name": "sklearn_lifestyle_and_heart_stroke.ipynb",
      "provenance": []
    }
  },
  "cells": [
    {
      "cell_type": "markdown",
      "metadata": {
        "id": "0_u_uIZxSjm_",
        "colab_type": "text"
      },
      "source": [
        "# Lifestyle and Heart Stroke"
      ]
    },
    {
      "cell_type": "markdown",
      "metadata": {
        "id": "7Nq2ras2SjnG",
        "colab_type": "text"
      },
      "source": [
        "## Table of Content\n",
        "\n",
        "[Problem](#problem)    \n",
        "[Libraries](#libraries)  \n",
        "[Data Understanding](#data_understanding)  \n",
        "[Data Preparation](#data_preparation)    \n",
        "[Modeling](#modeling)     \n",
        "[Evaluation](#evaluation)   \n",
        "[References](#references)  \n"
      ]
    },
    {
      "cell_type": "markdown",
      "metadata": {
        "id": "UTQZXUreSjnK",
        "colab_type": "text"
      },
      "source": [
        "## Problem <a class=\"anchor\" id=\"problem\"></a>"
      ]
    },
    {
      "cell_type": "markdown",
      "metadata": {
        "id": "f4s2i5pRSjnN",
        "colab_type": "text"
      },
      "source": [
        "Can we predict any heart strokes by looking at the lifestyle of a person? In this experiment we are trying to predict whether a patient will have stroke or not based on some given attributes. By doing so we can monitor and improve lifestyle of people under risk to prevent possible problems."
      ]
    },
    {
      "cell_type": "markdown",
      "metadata": {
        "id": "yGZFSJoBSjnQ",
        "colab_type": "text"
      },
      "source": [
        "## Libraries <a class=\"anchor\" id=\"libraries\"></a>"
      ]
    },
    {
      "cell_type": "code",
      "metadata": {
        "id": "tPWcrnsJSjnT",
        "colab_type": "code",
        "outputId": "fca98fb0-1e18-46db-dcaa-05ce9724f2db",
        "colab": {
          "base_uri": "https://localhost:8080/",
          "height": 70
        }
      },
      "source": [
        "import numpy as np\n",
        "import pandas as pd\n",
        "import matplotlib.pyplot as plt\n",
        "import seaborn as sns\n",
        "\n",
        "from sklearn.preprocessing import *\n",
        "from sklearn.metrics import *\n",
        "from sklearn.model_selection import *\n",
        "\n",
        "from sklearn.ensemble import RandomForestClassifier"
      ],
      "execution_count": 0,
      "outputs": [
        {
          "output_type": "stream",
          "text": [
            "/usr/local/lib/python3.6/dist-packages/statsmodels/tools/_testing.py:19: FutureWarning: pandas.util.testing is deprecated. Use the functions in the public API at pandas.testing instead.\n",
            "  import pandas.util.testing as tm\n"
          ],
          "name": "stderr"
        }
      ]
    },
    {
      "cell_type": "markdown",
      "metadata": {
        "id": "cUjoX6lbSjnj",
        "colab_type": "text"
      },
      "source": [
        "## Data Understanding<a class=\"anchor\" id=\"data_understanding\"></a>"
      ]
    },
    {
      "cell_type": "markdown",
      "metadata": {
        "id": "V_rtbyuNSjnm",
        "colab_type": "text"
      },
      "source": [
        "This dataset is from a hackathon on Analytics Vidhya for Mckinsey data set of healthcare. It contains 11 attributes which might be related to heart strokes directly or indirectly. We have many missing values and imbalanced lables in this dataset which will take most of our time in this experiment to figure out a solution."
      ]
    },
    {
      "cell_type": "markdown",
      "metadata": {
        "id": "3y98chybSjnp",
        "colab_type": "text"
      },
      "source": [
        "#### Lets import the data, quickly check the format and statistics"
      ]
    },
    {
      "cell_type": "code",
      "metadata": {
        "id": "h7d698tsSjns",
        "colab_type": "code",
        "outputId": "9b6444ab-e6b3-4662-f213-836c904b5bf5",
        "colab": {
          "base_uri": "https://localhost:8080/",
          "height": 229
        }
      },
      "source": [
        "url = 'https://raw.githubusercontent.com/brainoverflow98/sklearn-lifestyle-and-heart-stroke/master/heart_storke_data.csv'\n",
        "df = pd.read_csv(url)\n",
        "print('Dataframe rows: {}'.format(df.shape[0]))\n",
        "print('Dataframe columns: {}'.format(df.shape[1]))\n",
        "df.head()"
      ],
      "execution_count": 0,
      "outputs": [
        {
          "output_type": "stream",
          "text": [
            "Dataframe rows: 43400\n",
            "Dataframe columns: 12\n"
          ],
          "name": "stdout"
        },
        {
          "output_type": "execute_result",
          "data": {
            "text/html": [
              "<div>\n",
              "<style scoped>\n",
              "    .dataframe tbody tr th:only-of-type {\n",
              "        vertical-align: middle;\n",
              "    }\n",
              "\n",
              "    .dataframe tbody tr th {\n",
              "        vertical-align: top;\n",
              "    }\n",
              "\n",
              "    .dataframe thead th {\n",
              "        text-align: right;\n",
              "    }\n",
              "</style>\n",
              "<table border=\"1\" class=\"dataframe\">\n",
              "  <thead>\n",
              "    <tr style=\"text-align: right;\">\n",
              "      <th></th>\n",
              "      <th>id</th>\n",
              "      <th>gender</th>\n",
              "      <th>age</th>\n",
              "      <th>hypertension</th>\n",
              "      <th>heart_disease</th>\n",
              "      <th>ever_married</th>\n",
              "      <th>work_type</th>\n",
              "      <th>Residence_type</th>\n",
              "      <th>avg_glucose_level</th>\n",
              "      <th>bmi</th>\n",
              "      <th>smoking_status</th>\n",
              "      <th>stroke</th>\n",
              "    </tr>\n",
              "  </thead>\n",
              "  <tbody>\n",
              "    <tr>\n",
              "      <th>0</th>\n",
              "      <td>30669</td>\n",
              "      <td>Male</td>\n",
              "      <td>3.0</td>\n",
              "      <td>0</td>\n",
              "      <td>0</td>\n",
              "      <td>No</td>\n",
              "      <td>children</td>\n",
              "      <td>Rural</td>\n",
              "      <td>95.12</td>\n",
              "      <td>18.0</td>\n",
              "      <td>NaN</td>\n",
              "      <td>0</td>\n",
              "    </tr>\n",
              "    <tr>\n",
              "      <th>1</th>\n",
              "      <td>30468</td>\n",
              "      <td>Male</td>\n",
              "      <td>58.0</td>\n",
              "      <td>1</td>\n",
              "      <td>0</td>\n",
              "      <td>Yes</td>\n",
              "      <td>Private</td>\n",
              "      <td>Urban</td>\n",
              "      <td>87.96</td>\n",
              "      <td>39.2</td>\n",
              "      <td>never smoked</td>\n",
              "      <td>0</td>\n",
              "    </tr>\n",
              "    <tr>\n",
              "      <th>2</th>\n",
              "      <td>16523</td>\n",
              "      <td>Female</td>\n",
              "      <td>8.0</td>\n",
              "      <td>0</td>\n",
              "      <td>0</td>\n",
              "      <td>No</td>\n",
              "      <td>Private</td>\n",
              "      <td>Urban</td>\n",
              "      <td>110.89</td>\n",
              "      <td>17.6</td>\n",
              "      <td>NaN</td>\n",
              "      <td>0</td>\n",
              "    </tr>\n",
              "    <tr>\n",
              "      <th>3</th>\n",
              "      <td>56543</td>\n",
              "      <td>Female</td>\n",
              "      <td>70.0</td>\n",
              "      <td>0</td>\n",
              "      <td>0</td>\n",
              "      <td>Yes</td>\n",
              "      <td>Private</td>\n",
              "      <td>Rural</td>\n",
              "      <td>69.04</td>\n",
              "      <td>35.9</td>\n",
              "      <td>formerly smoked</td>\n",
              "      <td>0</td>\n",
              "    </tr>\n",
              "    <tr>\n",
              "      <th>4</th>\n",
              "      <td>46136</td>\n",
              "      <td>Male</td>\n",
              "      <td>14.0</td>\n",
              "      <td>0</td>\n",
              "      <td>0</td>\n",
              "      <td>No</td>\n",
              "      <td>Never_worked</td>\n",
              "      <td>Rural</td>\n",
              "      <td>161.28</td>\n",
              "      <td>19.1</td>\n",
              "      <td>NaN</td>\n",
              "      <td>0</td>\n",
              "    </tr>\n",
              "  </tbody>\n",
              "</table>\n",
              "</div>"
            ],
            "text/plain": [
              "      id  gender   age  ...   bmi   smoking_status stroke\n",
              "0  30669    Male   3.0  ...  18.0              NaN      0\n",
              "1  30468    Male  58.0  ...  39.2     never smoked      0\n",
              "2  16523  Female   8.0  ...  17.6              NaN      0\n",
              "3  56543  Female  70.0  ...  35.9  formerly smoked      0\n",
              "4  46136    Male  14.0  ...  19.1              NaN      0\n",
              "\n",
              "[5 rows x 12 columns]"
            ]
          },
          "metadata": {
            "tags": []
          },
          "execution_count": 2
        }
      ]
    },
    {
      "cell_type": "code",
      "metadata": {
        "id": "7Vz4cK2NSjn6",
        "colab_type": "code",
        "outputId": "6f24b8a9-7710-416a-9923-45cf1b36ed9d",
        "colab": {
          "base_uri": "https://localhost:8080/",
          "height": 284
        }
      },
      "source": [
        "df.describe()"
      ],
      "execution_count": 0,
      "outputs": [
        {
          "output_type": "execute_result",
          "data": {
            "text/html": [
              "<div>\n",
              "<style scoped>\n",
              "    .dataframe tbody tr th:only-of-type {\n",
              "        vertical-align: middle;\n",
              "    }\n",
              "\n",
              "    .dataframe tbody tr th {\n",
              "        vertical-align: top;\n",
              "    }\n",
              "\n",
              "    .dataframe thead th {\n",
              "        text-align: right;\n",
              "    }\n",
              "</style>\n",
              "<table border=\"1\" class=\"dataframe\">\n",
              "  <thead>\n",
              "    <tr style=\"text-align: right;\">\n",
              "      <th></th>\n",
              "      <th>id</th>\n",
              "      <th>age</th>\n",
              "      <th>hypertension</th>\n",
              "      <th>heart_disease</th>\n",
              "      <th>avg_glucose_level</th>\n",
              "      <th>bmi</th>\n",
              "      <th>stroke</th>\n",
              "    </tr>\n",
              "  </thead>\n",
              "  <tbody>\n",
              "    <tr>\n",
              "      <th>count</th>\n",
              "      <td>43400.000000</td>\n",
              "      <td>43400.000000</td>\n",
              "      <td>43400.000000</td>\n",
              "      <td>43400.000000</td>\n",
              "      <td>43400.000000</td>\n",
              "      <td>41938.000000</td>\n",
              "      <td>43400.000000</td>\n",
              "    </tr>\n",
              "    <tr>\n",
              "      <th>mean</th>\n",
              "      <td>36326.142350</td>\n",
              "      <td>42.217894</td>\n",
              "      <td>0.093571</td>\n",
              "      <td>0.047512</td>\n",
              "      <td>104.482750</td>\n",
              "      <td>28.605038</td>\n",
              "      <td>0.018041</td>\n",
              "    </tr>\n",
              "    <tr>\n",
              "      <th>std</th>\n",
              "      <td>21072.134879</td>\n",
              "      <td>22.519649</td>\n",
              "      <td>0.291235</td>\n",
              "      <td>0.212733</td>\n",
              "      <td>43.111751</td>\n",
              "      <td>7.770020</td>\n",
              "      <td>0.133103</td>\n",
              "    </tr>\n",
              "    <tr>\n",
              "      <th>min</th>\n",
              "      <td>1.000000</td>\n",
              "      <td>0.080000</td>\n",
              "      <td>0.000000</td>\n",
              "      <td>0.000000</td>\n",
              "      <td>55.000000</td>\n",
              "      <td>10.100000</td>\n",
              "      <td>0.000000</td>\n",
              "    </tr>\n",
              "    <tr>\n",
              "      <th>25%</th>\n",
              "      <td>18038.500000</td>\n",
              "      <td>24.000000</td>\n",
              "      <td>0.000000</td>\n",
              "      <td>0.000000</td>\n",
              "      <td>77.540000</td>\n",
              "      <td>23.200000</td>\n",
              "      <td>0.000000</td>\n",
              "    </tr>\n",
              "    <tr>\n",
              "      <th>50%</th>\n",
              "      <td>36351.500000</td>\n",
              "      <td>44.000000</td>\n",
              "      <td>0.000000</td>\n",
              "      <td>0.000000</td>\n",
              "      <td>91.580000</td>\n",
              "      <td>27.700000</td>\n",
              "      <td>0.000000</td>\n",
              "    </tr>\n",
              "    <tr>\n",
              "      <th>75%</th>\n",
              "      <td>54514.250000</td>\n",
              "      <td>60.000000</td>\n",
              "      <td>0.000000</td>\n",
              "      <td>0.000000</td>\n",
              "      <td>112.070000</td>\n",
              "      <td>32.900000</td>\n",
              "      <td>0.000000</td>\n",
              "    </tr>\n",
              "    <tr>\n",
              "      <th>max</th>\n",
              "      <td>72943.000000</td>\n",
              "      <td>82.000000</td>\n",
              "      <td>1.000000</td>\n",
              "      <td>1.000000</td>\n",
              "      <td>291.050000</td>\n",
              "      <td>97.600000</td>\n",
              "      <td>1.000000</td>\n",
              "    </tr>\n",
              "  </tbody>\n",
              "</table>\n",
              "</div>"
            ],
            "text/plain": [
              "                 id           age  ...           bmi        stroke\n",
              "count  43400.000000  43400.000000  ...  41938.000000  43400.000000\n",
              "mean   36326.142350     42.217894  ...     28.605038      0.018041\n",
              "std    21072.134879     22.519649  ...      7.770020      0.133103\n",
              "min        1.000000      0.080000  ...     10.100000      0.000000\n",
              "25%    18038.500000     24.000000  ...     23.200000      0.000000\n",
              "50%    36351.500000     44.000000  ...     27.700000      0.000000\n",
              "75%    54514.250000     60.000000  ...     32.900000      0.000000\n",
              "max    72943.000000     82.000000  ...     97.600000      1.000000\n",
              "\n",
              "[8 rows x 7 columns]"
            ]
          },
          "metadata": {
            "tags": []
          },
          "execution_count": 3
        }
      ]
    },
    {
      "cell_type": "markdown",
      "metadata": {
        "id": "I-2cCDNFSjoD",
        "colab_type": "text"
      },
      "source": [
        "## Data Preparation<a class=\"anchor\" id=\"data_preparation\"></a>"
      ]
    },
    {
      "cell_type": "markdown",
      "metadata": {
        "id": "LjewjDx_SjoF",
        "colab_type": "text"
      },
      "source": [
        "#### Lets drop the id column and check the percentage of null values in columns"
      ]
    },
    {
      "cell_type": "code",
      "metadata": {
        "id": "b4zVFpnJSjoH",
        "colab_type": "code",
        "outputId": "0714b15b-b6cb-4420-e987-b3587b270e18",
        "colab": {
          "base_uri": "https://localhost:8080/",
          "height": 218
        }
      },
      "source": [
        "df.drop(['id'], axis=1, inplace=True)\n",
        "df.isnull().sum()/len(df)*100"
      ],
      "execution_count": 0,
      "outputs": [
        {
          "output_type": "execute_result",
          "data": {
            "text/plain": [
              "gender                0.000000\n",
              "age                   0.000000\n",
              "hypertension          0.000000\n",
              "heart_disease         0.000000\n",
              "ever_married          0.000000\n",
              "work_type             0.000000\n",
              "Residence_type        0.000000\n",
              "avg_glucose_level     0.000000\n",
              "bmi                   3.368664\n",
              "smoking_status       30.626728\n",
              "stroke                0.000000\n",
              "dtype: float64"
            ]
          },
          "metadata": {
            "tags": []
          },
          "execution_count": 4
        }
      ]
    },
    {
      "cell_type": "markdown",
      "metadata": {
        "id": "HKgUG_mYSjoN",
        "colab_type": "text"
      },
      "source": [
        "#### Because null value percentage is low for 'bmi' feature we can replace null values with the mean of the column."
      ]
    },
    {
      "cell_type": "code",
      "metadata": {
        "id": "keNClk9eSjoO",
        "colab_type": "code",
        "colab": {}
      },
      "source": [
        "df[\"bmi\"]=df[\"bmi\"].fillna(df[\"bmi\"].mean())"
      ],
      "execution_count": 0,
      "outputs": []
    },
    {
      "cell_type": "markdown",
      "metadata": {
        "id": "D3tFCOZ7SjoV",
        "colab_type": "text"
      },
      "source": [
        "#### There are too many missing values for 'smoking_status' so we will inspect it further after we label our categorical variables to find a solution."
      ]
    },
    {
      "cell_type": "markdown",
      "metadata": {
        "id": "35lP9N1lSjoW",
        "colab_type": "text"
      },
      "source": [
        "#### Lets find non-numerical features and encode them as numerical values."
      ]
    },
    {
      "cell_type": "code",
      "metadata": {
        "id": "AItCr1aZSjoX",
        "colab_type": "code",
        "outputId": "7e8c3fe7-6782-4f16-b6a2-3b81a893d071",
        "colab": {
          "base_uri": "https://localhost:8080/"
        }
      },
      "source": [
        "df.dtypes"
      ],
      "execution_count": 0,
      "outputs": [
        {
          "output_type": "execute_result",
          "data": {
            "text/plain": [
              "gender                object\n",
              "age                  float64\n",
              "hypertension           int64\n",
              "heart_disease          int64\n",
              "ever_married          object\n",
              "work_type             object\n",
              "Residence_type        object\n",
              "avg_glucose_level    float64\n",
              "bmi                  float64\n",
              "smoking_status        object\n",
              "stroke                 int64\n",
              "dtype: object"
            ]
          },
          "metadata": {
            "tags": []
          },
          "execution_count": 6
        }
      ]
    },
    {
      "cell_type": "markdown",
      "metadata": {
        "id": "ySnMlmuWSjob",
        "colab_type": "text"
      },
      "source": [
        "#### There are 5 non-numerical columns. For each of them we will check the unique category values and try to encode them in the best way possible. Lets start with 'gender' column. "
      ]
    },
    {
      "cell_type": "code",
      "metadata": {
        "id": "0vL-oqZSSjoc",
        "colab_type": "code",
        "outputId": "9c4f2aeb-0303-47ab-b57c-9440813e09e0",
        "colab": {
          "base_uri": "https://localhost:8080/"
        }
      },
      "source": [
        "df.groupby('gender')['gender'].count()"
      ],
      "execution_count": 0,
      "outputs": [
        {
          "output_type": "execute_result",
          "data": {
            "text/plain": [
              "gender\n",
              "Female    25665\n",
              "Male      17724\n",
              "Other        11\n",
              "Name: gender, dtype: int64"
            ]
          },
          "metadata": {
            "tags": []
          },
          "execution_count": 7
        }
      ]
    },
    {
      "cell_type": "markdown",
      "metadata": {
        "id": "dPDpCgXWSjog",
        "colab_type": "text"
      },
      "source": [
        "#### We can drop rows with 'Other' values as the number of samples are too few."
      ]
    },
    {
      "cell_type": "code",
      "metadata": {
        "id": "2n0D2IJMSjoh",
        "colab_type": "code",
        "colab": {}
      },
      "source": [
        "df.drop(df.index[df['gender'] == 'Other'], inplace = True)"
      ],
      "execution_count": 0,
      "outputs": []
    },
    {
      "cell_type": "markdown",
      "metadata": {
        "id": "Fu-z0xRZSjom",
        "colab_type": "text"
      },
      "source": [
        "#### We will create a dictionary for each category since it's easier to understans the labels and it'll be useful later on to visualize our results."
      ]
    },
    {
      "cell_type": "code",
      "metadata": {
        "id": "oTWM2KBzSjon",
        "colab_type": "code",
        "colab": {}
      },
      "source": [
        "gender_labels = {'Female': 0, 'Male': 1}\n",
        "df['gender'] = df['gender'].map(gender_labels)"
      ],
      "execution_count": 0,
      "outputs": []
    },
    {
      "cell_type": "markdown",
      "metadata": {
        "id": "L_-FJk-uSjor",
        "colab_type": "text"
      },
      "source": [
        "#### Lets continue with  'ever_married' column."
      ]
    },
    {
      "cell_type": "code",
      "metadata": {
        "id": "4gsly8yISjos",
        "colab_type": "code",
        "outputId": "f27e624c-f4aa-425e-d19b-9cb6eaacca8f",
        "colab": {
          "base_uri": "https://localhost:8080/"
        }
      },
      "source": [
        "df.groupby('ever_married')['ever_married'].count()"
      ],
      "execution_count": 0,
      "outputs": [
        {
          "output_type": "execute_result",
          "data": {
            "text/plain": [
              "ever_married\n",
              "No     15456\n",
              "Yes    27933\n",
              "Name: ever_married, dtype: int64"
            ]
          },
          "metadata": {
            "tags": []
          },
          "execution_count": 10
        }
      ]
    },
    {
      "cell_type": "code",
      "metadata": {
        "id": "v0r_G0e4Sjow",
        "colab_type": "code",
        "colab": {}
      },
      "source": [
        "ever_married_labels = {'No': 0, 'Yes': 1}\n",
        "df['ever_married'] = df['ever_married'].map(ever_married_labels)"
      ],
      "execution_count": 0,
      "outputs": []
    },
    {
      "cell_type": "markdown",
      "metadata": {
        "id": "bBzJukytSjo0",
        "colab_type": "text"
      },
      "source": [
        "#### Next, 'Residence_type' column."
      ]
    },
    {
      "cell_type": "code",
      "metadata": {
        "scrolled": true,
        "id": "J216VJ0iSjo1",
        "colab_type": "code",
        "outputId": "6c169062-07f7-4571-fd58-975852fb6d09",
        "colab": {
          "base_uri": "https://localhost:8080/"
        }
      },
      "source": [
        "df.groupby('Residence_type')['Residence_type'].count()"
      ],
      "execution_count": 0,
      "outputs": [
        {
          "output_type": "execute_result",
          "data": {
            "text/plain": [
              "Residence_type\n",
              "Rural    21638\n",
              "Urban    21751\n",
              "Name: Residence_type, dtype: int64"
            ]
          },
          "metadata": {
            "tags": []
          },
          "execution_count": 12
        }
      ]
    },
    {
      "cell_type": "code",
      "metadata": {
        "id": "ER0wvvICSjo5",
        "colab_type": "code",
        "colab": {}
      },
      "source": [
        "residence_type_labels = {'Rural': 0, 'Urban': 1}\n",
        "df['Residence_type'] = df['Residence_type'].map(residence_type_labels)"
      ],
      "execution_count": 0,
      "outputs": []
    },
    {
      "cell_type": "markdown",
      "metadata": {
        "id": "ZYzXKklKSjo-",
        "colab_type": "text"
      },
      "source": [
        "#### Next, 'work_type' column."
      ]
    },
    {
      "cell_type": "code",
      "metadata": {
        "scrolled": true,
        "id": "VIKDS2sXSjo_",
        "colab_type": "code",
        "outputId": "3dd1a592-1f72-4455-b2a9-ff571af49578",
        "colab": {
          "base_uri": "https://localhost:8080/"
        }
      },
      "source": [
        "df.groupby('work_type')['work_type'].count()"
      ],
      "execution_count": 0,
      "outputs": [
        {
          "output_type": "execute_result",
          "data": {
            "text/plain": [
              "work_type\n",
              "Govt_job          5438\n",
              "Never_worked       177\n",
              "Private          24827\n",
              "Self-employed     6793\n",
              "children          6154\n",
              "Name: work_type, dtype: int64"
            ]
          },
          "metadata": {
            "tags": []
          },
          "execution_count": 14
        }
      ]
    },
    {
      "cell_type": "markdown",
      "metadata": {
        "id": "VT-FfhBJSjpD",
        "colab_type": "text"
      },
      "source": [
        "#### We can encode 'children' and 'Never_worked' under the same value. They basically have the same practical meaning."
      ]
    },
    {
      "cell_type": "code",
      "metadata": {
        "id": "gWJLrGh4SjpF",
        "colab_type": "code",
        "colab": {}
      },
      "source": [
        "df.replace('children', 'Never_worked', inplace=True)"
      ],
      "execution_count": 0,
      "outputs": []
    },
    {
      "cell_type": "markdown",
      "metadata": {
        "id": "u5w3aSnFSjpJ",
        "colab_type": "text"
      },
      "source": [
        "#### We can not use standart label encoding for 'work_type' since there are more than 2 categories and they are not contious/ordinal categories. We have to use One Hot Encoding instead."
      ]
    },
    {
      "cell_type": "code",
      "metadata": {
        "id": "82hzEVXvSjpK",
        "colab_type": "code",
        "colab": {}
      },
      "source": [
        "df = df.join(pd.get_dummies(df['work_type']))\n",
        "df.drop(['work_type'], axis=1, inplace=True)"
      ],
      "execution_count": 0,
      "outputs": []
    },
    {
      "cell_type": "markdown",
      "metadata": {
        "id": "hdJLIPH7SjpN",
        "colab_type": "text"
      },
      "source": [
        "#### And finally 'smoking_status' column. Lets start by splitting dataset into two which one of them having smoking status and one does not. "
      ]
    },
    {
      "cell_type": "code",
      "metadata": {
        "scrolled": false,
        "id": "nF6xWQotSjpO",
        "colab_type": "code",
        "colab": {}
      },
      "source": [
        "# rows that does not include smoking_status information\n",
        "df_nan = df[df['smoking_status'].isnull()]"
      ],
      "execution_count": 0,
      "outputs": []
    },
    {
      "cell_type": "code",
      "metadata": {
        "id": "MDWbAfb4SjpR",
        "colab_type": "code",
        "colab": {}
      },
      "source": [
        "#df_nan = df_nan.drop(['smoking_status'], axis=1)"
      ],
      "execution_count": 0,
      "outputs": []
    },
    {
      "cell_type": "code",
      "metadata": {
        "id": "utzTEr5YSjpV",
        "colab_type": "code",
        "colab": {}
      },
      "source": [
        "# rows that include smoking_status information\n",
        "df.dropna(axis=0, inplace=True)"
      ],
      "execution_count": 0,
      "outputs": []
    },
    {
      "cell_type": "code",
      "metadata": {
        "scrolled": true,
        "id": "EXCpJoGRSjpY",
        "colab_type": "code",
        "outputId": "e91baea0-25df-4028-fda6-552100e2b218",
        "colab": {
          "base_uri": "https://localhost:8080/"
        }
      },
      "source": [
        "print(df.groupby('smoking_status')['smoking_status'].count())"
      ],
      "execution_count": 0,
      "outputs": [
        {
          "output_type": "stream",
          "text": [
            "smoking_status\n",
            "formerly smoked     7487\n",
            "never smoked       16051\n",
            "smokes              6561\n",
            "Name: smoking_status, dtype: int64\n"
          ],
          "name": "stdout"
        }
      ]
    },
    {
      "cell_type": "markdown",
      "metadata": {
        "id": "TqcTK5iUSjpd",
        "colab_type": "text"
      },
      "source": [
        "#### We can assume some kind of continuity between these categorical variables since 'formerly smoked' might be considered closer to 'smokes' than 'never smoked'. So we will use Ordinal Label Encoding for these categories."
      ]
    },
    {
      "cell_type": "code",
      "metadata": {
        "id": "Gyz-Gw8VSjpe",
        "colab_type": "code",
        "colab": {}
      },
      "source": [
        "smoking_status_labels = {'never smoked': 0, 'formerly smoked': 1, 'smokes': 2}\n",
        "df['smoking_status'] = df['smoking_status'].map(smoking_status_labels)"
      ],
      "execution_count": 0,
      "outputs": []
    },
    {
      "cell_type": "markdown",
      "metadata": {
        "id": "Vo6eZiDASjpi",
        "colab_type": "text"
      },
      "source": [
        "#### The final format of our data before trying to guess the missing 'smoking_status' values."
      ]
    },
    {
      "cell_type": "code",
      "metadata": {
        "id": "IHQL2A3HSjpi",
        "colab_type": "code",
        "outputId": "48ab13d3-7e31-40ad-c9ce-8a17e36aba0e",
        "colab": {
          "base_uri": "https://localhost:8080/"
        }
      },
      "source": [
        "df.head()"
      ],
      "execution_count": 0,
      "outputs": [
        {
          "output_type": "execute_result",
          "data": {
            "text/html": [
              "<div>\n",
              "<style scoped>\n",
              "    .dataframe tbody tr th:only-of-type {\n",
              "        vertical-align: middle;\n",
              "    }\n",
              "\n",
              "    .dataframe tbody tr th {\n",
              "        vertical-align: top;\n",
              "    }\n",
              "\n",
              "    .dataframe thead th {\n",
              "        text-align: right;\n",
              "    }\n",
              "</style>\n",
              "<table border=\"1\" class=\"dataframe\">\n",
              "  <thead>\n",
              "    <tr style=\"text-align: right;\">\n",
              "      <th></th>\n",
              "      <th>gender</th>\n",
              "      <th>age</th>\n",
              "      <th>hypertension</th>\n",
              "      <th>heart_disease</th>\n",
              "      <th>ever_married</th>\n",
              "      <th>Residence_type</th>\n",
              "      <th>avg_glucose_level</th>\n",
              "      <th>bmi</th>\n",
              "      <th>smoking_status</th>\n",
              "      <th>stroke</th>\n",
              "      <th>Govt_job</th>\n",
              "      <th>Never_worked</th>\n",
              "      <th>Private</th>\n",
              "      <th>Self-employed</th>\n",
              "    </tr>\n",
              "  </thead>\n",
              "  <tbody>\n",
              "    <tr>\n",
              "      <th>1</th>\n",
              "      <td>1</td>\n",
              "      <td>58.0</td>\n",
              "      <td>1</td>\n",
              "      <td>0</td>\n",
              "      <td>1</td>\n",
              "      <td>1</td>\n",
              "      <td>87.96</td>\n",
              "      <td>39.2</td>\n",
              "      <td>0</td>\n",
              "      <td>0</td>\n",
              "      <td>0</td>\n",
              "      <td>0</td>\n",
              "      <td>1</td>\n",
              "      <td>0</td>\n",
              "    </tr>\n",
              "    <tr>\n",
              "      <th>3</th>\n",
              "      <td>0</td>\n",
              "      <td>70.0</td>\n",
              "      <td>0</td>\n",
              "      <td>0</td>\n",
              "      <td>1</td>\n",
              "      <td>0</td>\n",
              "      <td>69.04</td>\n",
              "      <td>35.9</td>\n",
              "      <td>1</td>\n",
              "      <td>0</td>\n",
              "      <td>0</td>\n",
              "      <td>0</td>\n",
              "      <td>1</td>\n",
              "      <td>0</td>\n",
              "    </tr>\n",
              "    <tr>\n",
              "      <th>6</th>\n",
              "      <td>0</td>\n",
              "      <td>52.0</td>\n",
              "      <td>0</td>\n",
              "      <td>0</td>\n",
              "      <td>1</td>\n",
              "      <td>1</td>\n",
              "      <td>77.59</td>\n",
              "      <td>17.7</td>\n",
              "      <td>1</td>\n",
              "      <td>0</td>\n",
              "      <td>0</td>\n",
              "      <td>0</td>\n",
              "      <td>1</td>\n",
              "      <td>0</td>\n",
              "    </tr>\n",
              "    <tr>\n",
              "      <th>7</th>\n",
              "      <td>0</td>\n",
              "      <td>75.0</td>\n",
              "      <td>0</td>\n",
              "      <td>1</td>\n",
              "      <td>1</td>\n",
              "      <td>0</td>\n",
              "      <td>243.53</td>\n",
              "      <td>27.0</td>\n",
              "      <td>0</td>\n",
              "      <td>0</td>\n",
              "      <td>0</td>\n",
              "      <td>0</td>\n",
              "      <td>0</td>\n",
              "      <td>1</td>\n",
              "    </tr>\n",
              "    <tr>\n",
              "      <th>8</th>\n",
              "      <td>0</td>\n",
              "      <td>32.0</td>\n",
              "      <td>0</td>\n",
              "      <td>0</td>\n",
              "      <td>1</td>\n",
              "      <td>0</td>\n",
              "      <td>77.67</td>\n",
              "      <td>32.3</td>\n",
              "      <td>2</td>\n",
              "      <td>0</td>\n",
              "      <td>0</td>\n",
              "      <td>0</td>\n",
              "      <td>1</td>\n",
              "      <td>0</td>\n",
              "    </tr>\n",
              "  </tbody>\n",
              "</table>\n",
              "</div>"
            ],
            "text/plain": [
              "   gender   age  hypertension  ...  Never_worked  Private  Self-employed\n",
              "1       1  58.0             1  ...             0        1              0\n",
              "3       0  70.0             0  ...             0        1              0\n",
              "6       0  52.0             0  ...             0        1              0\n",
              "7       0  75.0             0  ...             0        0              1\n",
              "8       0  32.0             0  ...             0        1              0\n",
              "\n",
              "[5 rows x 14 columns]"
            ]
          },
          "metadata": {
            "tags": []
          },
          "execution_count": 22
        }
      ]
    },
    {
      "cell_type": "markdown",
      "metadata": {
        "id": "YO2jjJZ3Sjpm",
        "colab_type": "text"
      },
      "source": [
        "#### We will try to find some relationship between smoking status and other features. Starting with age and gender."
      ]
    },
    {
      "cell_type": "code",
      "metadata": {
        "id": "-DzAn0gfSjpn",
        "colab_type": "code",
        "outputId": "11583cc9-677c-409c-d842-2e6b1f738109",
        "colab": {
          "base_uri": "https://localhost:8080/"
        }
      },
      "source": [
        "max_age = 17\n",
        "\n",
        "total_under_max_age = len(df[ (df['age'] < max_age)])\n",
        "smoking_female = len(df[ (df['age'] < max_age) & (df['smoking_status'] != 0) & (df['gender'] == 1)])\n",
        "smoking_male = len(df[ (df['age'] < max_age) & (df['smoking_status'] != 0) & (df['gender'] == 0)])\n",
        "total_stroke = len(df[ (df['age'] < max_age) & (df['stroke'] == 1) ])\n",
        "no_smoking_data = len(df_nan[df_nan['age'] < max_age])\n",
        "\n",
        "print('-----STATS FOR PEOPLE UNDER AGE {}-----'.format(max_age))\n",
        "print('smoking female: {}'.format(smoking_female))\n",
        "print('smoking male: {}'.format(smoking_male))\n",
        "print('smoker/total rate: {}'.format(((smoking_female+smoking_male)/total_under_max_age)*100))\n",
        "print('total stroke cases: {}'.format(total_stroke))\n",
        "print('people with no smooking data: {}'.format(no_smoking_data))"
      ],
      "execution_count": 0,
      "outputs": [
        {
          "output_type": "stream",
          "text": [
            "-----STATS FOR PEOPLE UNDER AGE 17-----\n",
            "smoking female: 86\n",
            "smoking male: 109\n",
            "smoker/total rate: 17.287234042553195\n",
            "total stroke cases: 0\n",
            "people with no smooking data: 5936\n"
          ],
          "name": "stdout"
        }
      ]
    },
    {
      "cell_type": "markdown",
      "metadata": {
        "id": "Q-qpDBB6Sjpq",
        "colab_type": "text"
      },
      "source": [
        "#### Smoking status is only 17% for the people under age 17 and there are around 6000 people with missing smoking data under that age. Lets inspect it further. "
      ]
    },
    {
      "cell_type": "code",
      "metadata": {
        "id": "RZwLuv86Sjpr",
        "colab_type": "code",
        "outputId": "9b8e480e-b593-4d49-f2be-43241b0d3ae1",
        "colab": {
          "base_uri": "https://localhost:8080/"
        }
      },
      "source": [
        "under_ten_with_smoking_data = len(df[ (df['age'] < 10)])\n",
        "under_ten_without_smoking_data = len(df_nan[df_nan['age'] < 10])\n",
        "print('people under age 10 with no smoking data: {}'.format(under_ten_without_smoking_data))\n",
        "print('people under age 10 with smoking data: {}'.format(under_ten_with_smoking_data))"
      ],
      "execution_count": 0,
      "outputs": [
        {
          "output_type": "stream",
          "text": [
            "people under age 10 with no smoking data: 4285\n",
            "people under age 10 with smoking data: 0\n"
          ],
          "name": "stdout"
        }
      ]
    },
    {
      "cell_type": "markdown",
      "metadata": {
        "id": "ToNBQQekSjpu",
        "colab_type": "text"
      },
      "source": [
        "#### Around 4000 of the missing data is for the people under age 10. Most probably smoking percentage among these people is really low. Now we will calcute the possible smoker percentage for our dataset. We will take smoking rate as 1% for the people under age 10 and for the ages 10-17 we will take it as 17% (the value we found above)."
      ]
    },
    {
      "cell_type": "code",
      "metadata": {
        "id": "jZWPHbLVSjpu",
        "colab_type": "code",
        "outputId": "b7e6efb8-e670-413b-8b61-f3ef07c26b26",
        "colab": {
          "base_uri": "https://localhost:8080/"
        }
      },
      "source": [
        "print((( (no_smoking_data - under_ten_without_smoking_data) * 17 / 100) + (under_ten_without_smoking_data * 1 / 100) ) / no_smoking_data * 100)"
      ],
      "execution_count": 0,
      "outputs": [
        {
          "output_type": "stream",
          "text": [
            "5.4501347708894885\n"
          ],
          "name": "stdout"
        }
      ]
    },
    {
      "cell_type": "markdown",
      "metadata": {
        "id": "Hh5RqO2kSjpz",
        "colab_type": "text"
      },
      "source": [
        "#### We have predicted 5% smoker rate for our dataset. This is a number we can discard. So we can categorize all these values as non smokers."
      ]
    },
    {
      "cell_type": "markdown",
      "metadata": {
        "id": "hMIQf1G-Sjp0",
        "colab_type": "text"
      },
      "source": [
        "#### Before that lets check some more features to see if we can find more correlations to predict smoking status. I'll try people over age 80 and later on I'll try people who has bmi over 70."
      ]
    },
    {
      "cell_type": "code",
      "metadata": {
        "id": "UrnaJODUSjp0",
        "colab_type": "code",
        "outputId": "b6fabbf3-eb85-4d15-f591-70cede56073b",
        "colab": {
          "base_uri": "https://localhost:8080/"
        }
      },
      "source": [
        "min_age = 80\n",
        "\n",
        "total_under_min_age = len(df[ (df['age'] > min_age)])\n",
        "smoking_female = len(df[ (df['age'] > min_age) & (df['smoking_status'] != 0) & (df['gender'] == 1)])\n",
        "smoking_male = len(df[ (df['age'] > min_age) & (df['smoking_status'] != 0) & (df['gender'] == 0)])\n",
        "total_stroke = len(df[ (df['age'] > min_age) & (df['stroke'] == 1) ])\n",
        "\n",
        "print('-----STATS FOR PEOPLE OVER AGE {}-----'.format(min_age))\n",
        "print('smoking female: {}'.format(smoking_female))\n",
        "print('smoking male: {}'.format(smoking_male))\n",
        "print('smoker/total rate: {}'.format(((smoking_female+smoking_male)/total_under_min_age)*100))\n",
        "print('total stroke cases: {}'.format(total_stroke))\n",
        "print('people with no smoking data: {}'.format(len(df_nan[df_nan['age'] > min_age])))"
      ],
      "execution_count": 0,
      "outputs": [
        {
          "output_type": "stream",
          "text": [
            "-----STATS FOR PEOPLE OVER AGE 80-----\n",
            "smoking female: 181\n",
            "smoking male: 170\n",
            "smoker/total rate: 49.92887624466572\n",
            "total stroke cases: 64\n",
            "people with no smoking data: 186\n"
          ],
          "name": "stdout"
        }
      ]
    },
    {
      "cell_type": "code",
      "metadata": {
        "id": "APgUPyEPSjp3",
        "colab_type": "code",
        "outputId": "4a29d396-2b18-4433-99b1-ae088f0ab06e",
        "colab": {
          "base_uri": "https://localhost:8080/"
        }
      },
      "source": [
        "min_bmi = 80\n",
        "total_over_min_bmi = len(df[ (df['bmi'] > min_bmi)])\n",
        "smoker_over_min_bmi = len(df[ (df['bmi'] > min_bmi) & (df['smoking_status'] != 0) ])\n",
        "\n",
        "print('-----STATS FOR PEOPLE OVER BMI {}-----'.format(min_bmi))\n",
        "print('smoker/nonsmoker rate: {}'.format((smoker_over_min_bmi/total_over_min_bmi*100)))\n",
        "print('people with no smoking data: {}'.format(len(df_nan[(df_nan['bmi'] > min_bmi)])))"
      ],
      "execution_count": 0,
      "outputs": [
        {
          "output_type": "stream",
          "text": [
            "-----STATS FOR PEOPLE OVER BMI 80-----\n",
            "smoker/nonsmoker rate: 0.0\n",
            "people with no smoking data: 5\n"
          ],
          "name": "stdout"
        }
      ]
    },
    {
      "cell_type": "markdown",
      "metadata": {
        "id": "ZnT8cqRNSjp7",
        "colab_type": "text"
      },
      "source": [
        "#### Unfortunately there is nothing else we can find manually. Lets try to train a model using the dataset with smoking status to predict the smoking status of the other dataset."
      ]
    },
    {
      "cell_type": "markdown",
      "metadata": {
        "id": "sb6YF-NaSjp7",
        "colab_type": "text"
      },
      "source": [
        "#### Starting by splitting our data into labels and features. We are not going to split our data to train and test because cross validation functionality inside the grid search method will do that automatically for us. Also mark that we do not include 'stroke' to predict 'smoking_status' since it's the final label we want to predict."
      ]
    },
    {
      "cell_type": "code",
      "metadata": {
        "id": "QJY9oOyhSjp8",
        "colab_type": "code",
        "colab": {}
      },
      "source": [
        "labels = df['smoking_status']\n",
        "features = df.drop(['stroke', 'smoking_status'], axis=1)"
      ],
      "execution_count": 0,
      "outputs": []
    },
    {
      "cell_type": "code",
      "metadata": {
        "id": "EZRW-PPaSjp_",
        "colab_type": "code",
        "outputId": "1e54f551-841a-4e46-8db3-1c8ba2525e33",
        "colab": {
          "base_uri": "https://localhost:8080/"
        }
      },
      "source": [
        "forest = RandomForestClassifier(n_jobs=-1, random_state=1)\n",
        "\n",
        "parameter_grid = {\n",
        "'min_samples_split': [400, 500],\n",
        "'max_features': [6, 10]\n",
        "}\n",
        "\n",
        "skf = StratifiedKFold(n_splits=4)\n",
        "grid_search = GridSearchCV(forest, parameter_grid, scoring='accuracy', cv=skf, return_train_score=True, n_jobs=-1)\n",
        "\n",
        "grid_search.fit(features, labels)\n",
        "\n",
        "i = grid_search.best_index_\n",
        "results = pd.DataFrame(grid_search.cv_results_)\n",
        "\n",
        "print('Accuracy: {}'.format(results.loc[i, 'mean_test_score']))\n",
        "\n",
        "print('Standart Deviation: {}'.format(results.loc[i, 'std_test_score']))\n",
        "\n",
        "print('Best parameters: {}'.format(results.loc[i, 'params']))"
      ],
      "execution_count": 0,
      "outputs": [
        {
          "output_type": "stream",
          "text": [
            "Accuracy: 0.5442042297427854\n",
            "Standart Deviation: 0.0022467917250928214\n",
            "Best parameters: {'max_features': 6, 'min_samples_split': 500}\n"
          ],
          "name": "stdout"
        }
      ]
    },
    {
      "cell_type": "markdown",
      "metadata": {
        "id": "2AXg89g_SjqC",
        "colab_type": "text"
      },
      "source": [
        "#### Unfortunately our model can predict only with 55% accuracy this not enough for us to let it predict all 14000 values. Thus we will use the age correlation we found above and to categorize 6000 people as non-smokers with possbile 95% accuracy and we will be saving almost 45% of our missing data."
      ]
    },
    {
      "cell_type": "code",
      "metadata": {
        "id": "pZ8UTnuVSjqC",
        "colab_type": "code",
        "colab": {}
      },
      "source": [
        "newdf = df_nan.loc[ (df_nan['age'] < 17)].copy()\n",
        "newdf['smoking_status'] = 0\n",
        "df = df.append(newdf, ignore_index=True)"
      ],
      "execution_count": 0,
      "outputs": []
    },
    {
      "cell_type": "markdown",
      "metadata": {
        "id": "ELHWxRoQSjqF",
        "colab_type": "text"
      },
      "source": [
        "#### Take a look at our final data format"
      ]
    },
    {
      "cell_type": "code",
      "metadata": {
        "id": "9kMXb91eSjqG",
        "colab_type": "code",
        "outputId": "30190ad2-3d72-4c28-ea05-d55da7d8f802",
        "colab": {
          "base_uri": "https://localhost:8080/"
        }
      },
      "source": [
        "print(df.shape)\n",
        "df.head(5)"
      ],
      "execution_count": 0,
      "outputs": [
        {
          "output_type": "stream",
          "text": [
            "(36035, 14)\n"
          ],
          "name": "stdout"
        },
        {
          "output_type": "execute_result",
          "data": {
            "text/html": [
              "<div>\n",
              "<style scoped>\n",
              "    .dataframe tbody tr th:only-of-type {\n",
              "        vertical-align: middle;\n",
              "    }\n",
              "\n",
              "    .dataframe tbody tr th {\n",
              "        vertical-align: top;\n",
              "    }\n",
              "\n",
              "    .dataframe thead th {\n",
              "        text-align: right;\n",
              "    }\n",
              "</style>\n",
              "<table border=\"1\" class=\"dataframe\">\n",
              "  <thead>\n",
              "    <tr style=\"text-align: right;\">\n",
              "      <th></th>\n",
              "      <th>gender</th>\n",
              "      <th>age</th>\n",
              "      <th>hypertension</th>\n",
              "      <th>heart_disease</th>\n",
              "      <th>ever_married</th>\n",
              "      <th>Residence_type</th>\n",
              "      <th>avg_glucose_level</th>\n",
              "      <th>bmi</th>\n",
              "      <th>smoking_status</th>\n",
              "      <th>stroke</th>\n",
              "      <th>Govt_job</th>\n",
              "      <th>Never_worked</th>\n",
              "      <th>Private</th>\n",
              "      <th>Self-employed</th>\n",
              "    </tr>\n",
              "  </thead>\n",
              "  <tbody>\n",
              "    <tr>\n",
              "      <th>0</th>\n",
              "      <td>1</td>\n",
              "      <td>58.0</td>\n",
              "      <td>1</td>\n",
              "      <td>0</td>\n",
              "      <td>1</td>\n",
              "      <td>1</td>\n",
              "      <td>87.96</td>\n",
              "      <td>39.2</td>\n",
              "      <td>0</td>\n",
              "      <td>0</td>\n",
              "      <td>0</td>\n",
              "      <td>0</td>\n",
              "      <td>1</td>\n",
              "      <td>0</td>\n",
              "    </tr>\n",
              "    <tr>\n",
              "      <th>1</th>\n",
              "      <td>0</td>\n",
              "      <td>70.0</td>\n",
              "      <td>0</td>\n",
              "      <td>0</td>\n",
              "      <td>1</td>\n",
              "      <td>0</td>\n",
              "      <td>69.04</td>\n",
              "      <td>35.9</td>\n",
              "      <td>1</td>\n",
              "      <td>0</td>\n",
              "      <td>0</td>\n",
              "      <td>0</td>\n",
              "      <td>1</td>\n",
              "      <td>0</td>\n",
              "    </tr>\n",
              "    <tr>\n",
              "      <th>2</th>\n",
              "      <td>0</td>\n",
              "      <td>52.0</td>\n",
              "      <td>0</td>\n",
              "      <td>0</td>\n",
              "      <td>1</td>\n",
              "      <td>1</td>\n",
              "      <td>77.59</td>\n",
              "      <td>17.7</td>\n",
              "      <td>1</td>\n",
              "      <td>0</td>\n",
              "      <td>0</td>\n",
              "      <td>0</td>\n",
              "      <td>1</td>\n",
              "      <td>0</td>\n",
              "    </tr>\n",
              "    <tr>\n",
              "      <th>3</th>\n",
              "      <td>0</td>\n",
              "      <td>75.0</td>\n",
              "      <td>0</td>\n",
              "      <td>1</td>\n",
              "      <td>1</td>\n",
              "      <td>0</td>\n",
              "      <td>243.53</td>\n",
              "      <td>27.0</td>\n",
              "      <td>0</td>\n",
              "      <td>0</td>\n",
              "      <td>0</td>\n",
              "      <td>0</td>\n",
              "      <td>0</td>\n",
              "      <td>1</td>\n",
              "    </tr>\n",
              "    <tr>\n",
              "      <th>4</th>\n",
              "      <td>0</td>\n",
              "      <td>32.0</td>\n",
              "      <td>0</td>\n",
              "      <td>0</td>\n",
              "      <td>1</td>\n",
              "      <td>0</td>\n",
              "      <td>77.67</td>\n",
              "      <td>32.3</td>\n",
              "      <td>2</td>\n",
              "      <td>0</td>\n",
              "      <td>0</td>\n",
              "      <td>0</td>\n",
              "      <td>1</td>\n",
              "      <td>0</td>\n",
              "    </tr>\n",
              "  </tbody>\n",
              "</table>\n",
              "</div>"
            ],
            "text/plain": [
              "   gender   age  hypertension  ...  Never_worked  Private  Self-employed\n",
              "0       1  58.0             1  ...             0        1              0\n",
              "1       0  70.0             0  ...             0        1              0\n",
              "2       0  52.0             0  ...             0        1              0\n",
              "3       0  75.0             0  ...             0        0              1\n",
              "4       0  32.0             0  ...             0        1              0\n",
              "\n",
              "[5 rows x 14 columns]"
            ]
          },
          "metadata": {
            "tags": []
          },
          "execution_count": 31
        }
      ]
    },
    {
      "cell_type": "markdown",
      "metadata": {
        "id": "8fkdRQcsSjqK",
        "colab_type": "text"
      },
      "source": [
        "## Modeling<a class=\"anchor\" id=\"modeling\"></a>"
      ]
    },
    {
      "cell_type": "markdown",
      "metadata": {
        "id": "a07qSOV0SjqK",
        "colab_type": "text"
      },
      "source": [
        "#### Lets start by checking feature correlations to see if we can remove any low correlated features."
      ]
    },
    {
      "cell_type": "code",
      "metadata": {
        "id": "keQPOYofSjqL",
        "colab_type": "code",
        "outputId": "b111b6f7-1660-4c94-d1df-14620ee774e4",
        "colab": {
          "base_uri": "https://localhost:8080/"
        }
      },
      "source": [
        "plt.figure(figsize=(13,13))\n",
        "sns.heatmap(df.iloc[:,:].corr(), annot=True, fmt='.0%')"
      ],
      "execution_count": 0,
      "outputs": [
        {
          "output_type": "execute_result",
          "data": {
            "text/plain": [
              "<matplotlib.axes._subplots.AxesSubplot at 0x7f4ef262dba8>"
            ]
          },
          "metadata": {
            "tags": []
          },
          "execution_count": 32
        },
        {
          "output_type": "display_data",
          "data": {
            "image/png": "[encoded data removed]",
            "text/plain": [
              "<Figure size 936x936 with 2 Axes>"
            ]
          },
          "metadata": {
            "tags": [],
            "needs_background": "light"
          }
        }
      ]
    },
    {
      "cell_type": "markdown",
      "metadata": {
        "id": "vf2h8TpPSjqP",
        "colab_type": "text"
      },
      "source": [
        "#### It seems like there is no feature selection we can do based on correlation. So now we will split our dataset but before that we will check if we have imbalanced label distribution."
      ]
    },
    {
      "cell_type": "code",
      "metadata": {
        "id": "oXwvJc3GSjqQ",
        "colab_type": "code",
        "colab": {}
      },
      "source": [
        "labels = df['stroke']\n",
        "features = df.drop(['stroke'], axis=1)"
      ],
      "execution_count": 0,
      "outputs": []
    },
    {
      "cell_type": "code",
      "metadata": {
        "id": "6sRk2xzESjqU",
        "colab_type": "code",
        "outputId": "51e1f199-f2ca-4fb4-cf27-176d706b00dd",
        "colab": {
          "base_uri": "https://localhost:8080/"
        }
      },
      "source": [
        "labels.value_counts()"
      ],
      "execution_count": 0,
      "outputs": [
        {
          "output_type": "execute_result",
          "data": {
            "text/plain": [
              "0    35395\n",
              "1      640\n",
              "Name: stroke, dtype: int64"
            ]
          },
          "metadata": {
            "tags": []
          },
          "execution_count": 34
        }
      ]
    },
    {
      "cell_type": "markdown",
      "metadata": {
        "id": "afrtMeb2SjqZ",
        "colab_type": "text"
      },
      "source": [
        "#### As we can see there's a huge imbalance between possitive and negative cases. So we will stratify our data while splitting it and we will try to assign higher class_weight to possitive labels while training our model."
      ]
    },
    {
      "cell_type": "markdown",
      "metadata": {
        "id": "zMnOIN6kSjqa",
        "colab_type": "text"
      },
      "source": [
        "#### Whe choosed to use RandomForestClassifier for our experiment. Because there are many categorical features in our data and decision trees in general are good at classifying with categorical features. We also want to be able to show the decision steps visually to user in order to raise awereness about the factors that can cause heart stroke. So people who have that kind of lifestyle can pay more attention to their healths.\n",
        "\n",
        "#### We will try to keep the 'min_samples_split', 'min_samples_leaf' as high and 'max_features' as low as possible to prevent overfitting of our model. We will choose the best model based on the recall score because not missing heart stroke patients is much more important than overall  accuracy. "
      ]
    },
    {
      "cell_type": "code",
      "metadata": {
        "id": "uH2C3wupSjqa",
        "colab_type": "code",
        "outputId": "8d7d698f-0917-4035-97c7-893a60817dcf",
        "colab": {
          "base_uri": "https://localhost:8080/"
        }
      },
      "source": [
        "x_train, x_test, y_train, y_test = train_test_split(features, labels, stratify=labels, test_size = 0.2, random_state = 3)\n",
        "\n",
        "print('Train class distribution')\n",
        "print(pd.Series(y_train).value_counts())\n",
        "print()\n",
        "print('Test class distribution')\n",
        "print(pd.Series(y_test).value_counts())"
      ],
      "execution_count": 0,
      "outputs": [
        {
          "output_type": "stream",
          "text": [
            "Train class distribution\n",
            "0    28316\n",
            "1      512\n",
            "Name: stroke, dtype: int64\n",
            "\n",
            "Test class distribution\n",
            "0    7079\n",
            "1     128\n",
            "Name: stroke, dtype: int64\n"
          ],
          "name": "stdout"
        }
      ]
    },
    {
      "cell_type": "code",
      "metadata": {
        "id": "is773nTfSjqg",
        "colab_type": "code",
        "outputId": "7b72a6e9-7400-48c7-cd79-afb379457868",
        "colab": {
          "base_uri": "https://localhost:8080/"
        }
      },
      "source": [
        "forest = RandomForestClassifier(class_weight={0: 1, 1: 50}, n_jobs=-1, random_state=1)\n",
        "\n",
        "parameter_grid = {\n",
        "'min_samples_split': [200, 300, 400],\n",
        "'max_features': [1, 2]\n",
        "}\n",
        "\n",
        "skf = StratifiedKFold(n_splits=4)\n",
        "grid_search_model = GridSearchCV(forest, parameter_grid, scoring='recall', cv=skf, return_train_score=True, n_jobs=-1)\n",
        "\n",
        "grid_search_model.fit(x_train, y_train)\n",
        "\n",
        "i = grid_search_model.best_index_\n",
        "results = pd.DataFrame(grid_search_model.cv_results_)\n",
        "\n",
        "print('Recall: {}'.format(results.loc[i, 'mean_test_score']))\n",
        "\n",
        "print('Standart Deviation: {}'.format(results.loc[i, 'std_test_score']))\n",
        "\n",
        "print('Best parameters: {}'.format(results.loc[i, 'params']))"
      ],
      "execution_count": 0,
      "outputs": [
        {
          "output_type": "stream",
          "text": [
            "Recall: 0.7734375\n",
            "Standart Deviation: 0.036643873123620545\n",
            "Best parameters: {'max_features': 2, 'min_samples_split': 400}\n"
          ],
          "name": "stdout"
        }
      ]
    },
    {
      "cell_type": "markdown",
      "metadata": {
        "id": "Pe8sRlvZSjql",
        "colab_type": "text"
      },
      "source": [
        "## Evaluation<a class=\"anchor\" id=\"evaluation\"></a>"
      ]
    },
    {
      "cell_type": "markdown",
      "metadata": {
        "id": "ycP8O6kUSjql",
        "colab_type": "text"
      },
      "source": [
        "#### We had a moderate result but with a low standart deviation which means that our model is stable. Now we will define some functions to plot our recal & f1 score graph. This will allow us to chose the optimal threshold value while trying to keep recal as high as possible. (You can skip this section if you want)"
      ]
    },
    {
      "cell_type": "code",
      "metadata": {
        "id": "agWXGiDRSjqm",
        "colab_type": "code",
        "colab": {}
      },
      "source": [
        "# function that turns probabilities to predictions based on the threshold\n",
        "def probability_to_prediction(y_proba, threshold):\n",
        "    y_pred = [1 if y >= threshold else 0 for y in y_proba] \n",
        "    return y_pred"
      ],
      "execution_count": 0,
      "outputs": []
    },
    {
      "cell_type": "code",
      "metadata": {
        "id": "dqduTsFSSjqq",
        "colab_type": "code",
        "colab": {}
      },
      "source": [
        "# plot the precision-recall vs threshold graph to determine best threshold value\n",
        "def plot_threshold(y_test, y_proba, current_threshold = 0.5):\n",
        "\n",
        "    precisions, recalls, thresholds = precision_recall_curve(y_test, y_proba)\n",
        "    f1_scores = [ (2 * p * r) / (p + r) for p,r in zip(precisions, recalls) ]\n",
        "    \n",
        "    y_pred = probability_to_prediction(y_proba, current_threshold)   \n",
        "    cr = classification_report(y_test, y_pred, output_dict=True)\n",
        "    current_recall = cr['1']['recall']   \n",
        "    \n",
        "    plt.figure(figsize=(8, 8))\n",
        "    plt.title(\"Precision and Recall Scores as a function of the decision threshold\")\n",
        "    plt.plot(thresholds, precisions[:-1], \"b--\", label=\"Precision\")\n",
        "    plt.plot(thresholds, recalls[:-1], \"g-\", label=\"Recall\")\n",
        "    plt.plot(thresholds, f1_scores[:-1], \"r-\", label=\"F1 Score\")\n",
        "    plt.ylabel(\"Score\")\n",
        "    plt.xlabel(\"Decision Threshold\")\n",
        "    plt.legend(loc='best')\n",
        "    \n",
        "    plt.plot(current_threshold, current_recall, '|', c='k', markersize=15)\n",
        "    \n",
        "    print('Recall for threshold {} is: {}'.format(current_threshold, cr['1']['recall'] ))\n",
        "    print('Accuracy for threshold {} is: {}'.format(current_threshold, cr['accuracy']))"
      ],
      "execution_count": 0,
      "outputs": []
    },
    {
      "cell_type": "code",
      "metadata": {
        "id": "XIKQ6rsRSjqx",
        "colab_type": "code",
        "colab": {}
      },
      "source": [
        "# score the model by applying threshold to predicted probilities\n",
        "def score_model(model, y_proba, y_test, threshold = 0.5):\n",
        "    \n",
        "    y_pred = probability_to_prediction(y_proba, threshold) \n",
        "\n",
        "    print('Accuracy: {}'.format(accuracy_score(y_test, y_pred)))\n",
        "    print('Confusion Matrix')\n",
        "    print(confusion_matrix(y_test, y_pred))    \n",
        "    print(classification_report(y_test, y_pred))\n",
        "   "
      ],
      "execution_count": 0,
      "outputs": []
    },
    {
      "cell_type": "markdown",
      "metadata": {
        "id": "9tqNvskdSjq1",
        "colab_type": "text"
      },
      "source": [
        "#### Ok, lets plot our graph."
      ]
    },
    {
      "cell_type": "code",
      "metadata": {
        "id": "7abg2-abSjq1",
        "colab_type": "code",
        "outputId": "07a3af1f-a8e2-4bcc-b021-671f9262fb83",
        "colab": {
          "base_uri": "https://localhost:8080/"
        }
      },
      "source": [
        "y_proba = grid_search_model.predict_proba(x_test)[:, 1]\n",
        "optimum_threshold = 0.5\n",
        "plot_threshold(y_test, y_proba, optimum_threshold)"
      ],
      "execution_count": 0,
      "outputs": [
        {
          "output_type": "stream",
          "text": [
            "/usr/local/lib/python3.6/dist-packages/ipykernel_launcher.py:5: RuntimeWarning: invalid value encountered in double_scalars\n",
            "  \"\"\"\n"
          ],
          "name": "stderr"
        },
        {
          "output_type": "stream",
          "text": [
            "Recall for threshold 0.5 is: 0.765625\n",
            "Accuracy for threshold 0.5 is: 0.7988067156930762\n"
          ],
          "name": "stdout"
        },
        {
          "output_type": "display_data",
          "data": {
            "image/png": "[encoded data removed]",
            "text/plain": [
              "<Figure size 576x576 with 1 Axes>"
            ]
          },
          "metadata": {
            "tags": [],
            "needs_background": "light"
          }
        }
      ]
    },
    {
      "cell_type": "markdown",
      "metadata": {
        "id": "a9YsW82eSjq4",
        "colab_type": "text"
      },
      "source": [
        "#### Our recall increases as we decrease threshold but at the same time accuracy decreases drastically. So we will keep the threshold at default (0.5) which approxiamtely has a recall of 77% and overall accuracy of 80%.  If you want different metrics you can play with threshold value. Here is the final metrics for our model."
      ]
    },
    {
      "cell_type": "code",
      "metadata": {
        "id": "X9KMzR_eSjq4",
        "colab_type": "code",
        "outputId": "a8d4c40c-e914-4b12-bc85-a4a9674710f7",
        "colab": {
          "base_uri": "https://localhost:8080/"
        }
      },
      "source": [
        "score_model(grid_search_model, y_proba, y_test, optimum_threshold)"
      ],
      "execution_count": 0,
      "outputs": [
        {
          "output_type": "stream",
          "text": [
            "Accuracy: 0.7988067156930762\n",
            "Confusion Matrix\n",
            "[[5659 1420]\n",
            " [  30   98]]\n",
            "              precision    recall  f1-score   support\n",
            "\n",
            "           0       0.99      0.80      0.89      7079\n",
            "           1       0.06      0.77      0.12       128\n",
            "\n",
            "    accuracy                           0.80      7207\n",
            "   macro avg       0.53      0.78      0.50      7207\n",
            "weighted avg       0.98      0.80      0.87      7207\n",
            "\n"
          ],
          "name": "stdout"
        }
      ]
    },
    {
      "cell_type": "markdown",
      "metadata": {
        "id": "Og4N9rU5Sjq7",
        "colab_type": "text"
      },
      "source": [
        "#### Precision score for our positive cases looks low. This is due to negative cases having much largee sample number compared to positive cases. We can look at recall rate for positive cases and overall accuracy to evaluate our model. We can say numbers are not everything unless you know how to interpret them. \n",
        "\n",
        "#### Based on that our model performs moderately. But I would say this is expected because we didn't use many mathematical values for this experiment but rather most of them were categorical variables. At the end of the day heart strokes are not things we can always predict even using machine-learning.   "
      ]
    },
    {
      "cell_type": "markdown",
      "metadata": {
        "id": "MOWMpYPDSjq7",
        "colab_type": "text"
      },
      "source": [
        "#### Here's the feature importance for the decision forest."
      ]
    },
    {
      "cell_type": "code",
      "metadata": {
        "id": "YeTz0i4fSjq8",
        "colab_type": "code",
        "outputId": "752ee9b8-2c41-4b16-a63d-eb903cea3007",
        "colab": {
          "base_uri": "https://localhost:8080/"
        }
      },
      "source": [
        "impFeatures = pd.DataFrame((grid_search_model.best_estimator_.feature_importances_) ,index=df.loc[:,df.columns!='stroke'].columns,columns=['Importance']).sort_values(by='Importance',ascending=False)\n",
        "print (impFeatures)"
      ],
      "execution_count": 0,
      "outputs": [
        {
          "output_type": "stream",
          "text": [
            "                   Importance\n",
            "age                  0.467921\n",
            "avg_glucose_level    0.124936\n",
            "bmi                  0.085875\n",
            "ever_married         0.067078\n",
            "heart_disease        0.060696\n",
            "Never_worked         0.052407\n",
            "hypertension         0.042925\n",
            "Self-employed        0.037134\n",
            "smoking_status       0.024940\n",
            "Residence_type       0.009602\n",
            "Private              0.009262\n",
            "Govt_job             0.008643\n",
            "gender               0.008579\n"
          ],
          "name": "stdout"
        }
      ]
    },
    {
      "cell_type": "markdown",
      "metadata": {
        "id": "Yt3nuEcBSjq_",
        "colab_type": "text"
      },
      "source": [
        "#### As we can see age, avarge glucose level and bmi are the top 3 features that have the most impact on the outcome. Even though we worked hard on smokin_status it seems like it does not affect the outcome too much for our model :)"
      ]
    },
    {
      "cell_type": "markdown",
      "metadata": {
        "id": "psmZjcrxSjrA",
        "colab_type": "text"
      },
      "source": [
        "### <a href='https://ibb.co/jJGLNgm'>Here's</a> a tree from our random forest."
      ]
    },
    {
      "cell_type": "markdown",
      "metadata": {
        "id": "DsOrSH0eSjrA",
        "colab_type": "text"
      },
      "source": [
        "![title](https://i.ibb.co/dm6QTGF/tree1.png)"
      ]
    },
    {
      "cell_type": "markdown",
      "metadata": {
        "id": "Ezh00RuaSjrA",
        "colab_type": "text"
      },
      "source": [
        "## References<a class=\"anchor\" id=\"references\"></a>"
      ]
    },
    {
      "cell_type": "markdown",
      "metadata": {
        "id": "DMHrUimpSjrB",
        "colab_type": "text"
      },
      "source": [
        "https://www.kaggle.com/surajdidwania/healthcare-stroke-patients-in-python/comments#673277        \n",
        "https://towardsdatascience.com/all-about-categorical-variable-encoding-305f3361fd02       \n",
        "https://towardsdatascience.com/how-to-visualize-a-decision-tree-from-a-random-forest-in-python-using-scikit-learn-38ad2d75f21c   \n",
        "https://towardsdatascience.com/fine-tuning-a-classifier-in-scikit-learn-66e048c21e65     \n",
        "https://www.youtube.com/watch?v=6M2d2n-QXCc      \n",
        "https://www.youtube.com/watch?v=J4Wdy0Wc_xQ     \n",
        "https://www.youtube.com/watch?v=wpNl-JwwplA      "
      ]
    },
    {
      "cell_type": "markdown",
      "metadata": {
        "id": "qJOLr8gMSjrB",
        "colab_type": "text"
      },
      "source": [
        "\n",
        "**Disclaimer!** <font color='grey'>This notebook was prepared by Halil Etka Tutkun for educational puposes. There is no guarantee on the correctness of the content provided .\n",
        "\n",
        "If you think there is any copyright violation, please let me know\n",
        "</font>"
      ]
    }
  ]
}